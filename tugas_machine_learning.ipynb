{
  "metadata": {
    "kernelspec": {
      "language": "python",
      "display_name": "Python 3",
      "name": "python3"
    },
    "language_info": {
      "name": "python",
      "version": "3.7.6",
      "mimetype": "text/x-python",
      "codemirror_mode": {
        "name": "ipython",
        "version": 3
      },
      "pygments_lexer": "ipython3",
      "nbconvert_exporter": "python",
      "file_extension": ".py"
    },
    "kaggle": {
      "accelerator": "none",
      "dataSources": [
        {
          "sourceId": 1305559,
          "sourceType": "datasetVersion",
          "datasetId": 750216
        }
      ],
      "dockerImageVersionId": 30042,
      "isInternetEnabled": false,
      "language": "python",
      "sourceType": "notebook",
      "isGpuEnabled": false
    },
    "colab": {
      "provenance": []
    }
  },
  "nbformat_minor": 0,
  "nbformat": 4,
  "cells": [
    {
      "cell_type": "markdown",
      "source": [
        "**Muh. Thariq Fayiz Syahputra A**\n",
        "\n",
        "**E1E121070**\n",
        "\n",
        "**Sistem Memprediksi Harga Mobil Merek Toyota Menggunakan Algoritma K-Nearest Neighbors**\n"
      ],
      "metadata": {
        "id": "MpnkzeiIEeTJ"
      }
    },
    {
      "cell_type": "markdown",
      "source": [
        "# 1. Import libraries yang diperlukan"
      ],
      "metadata": {
        "id": "-0bRu40iEeTK"
      }
    },
    {
      "cell_type": "code",
      "source": [
        "from google.colab import drive\n",
        "drive.mount('/content/drive')"
      ],
      "metadata": {
        "id": "WMnosVIMFZPT"
      },
      "execution_count": null,
      "outputs": []
    },
    {
      "cell_type": "code",
      "source": [
        "import pandas as pd\n",
        "import numpy as np\n",
        "import matplotlib.pyplot as plt\n",
        "import sklearn.metrics as metrics"
      ],
      "metadata": {
        "_uuid": "8f2839f25d086af736a60e9eeb907d3b93b6e0e5",
        "_cell_guid": "b1076dfc-b9ad-4769-8c92-a6c4dae69d19",
        "execution": {
          "iopub.status.busy": "2024-03-20T12:41:05.434166Z",
          "iopub.execute_input": "2024-03-20T12:41:05.434784Z",
          "iopub.status.idle": "2024-03-20T12:41:05.441419Z",
          "shell.execute_reply.started": "2024-03-20T12:41:05.434726Z",
          "shell.execute_reply": "2024-03-20T12:41:05.440070Z"
        },
        "trusted": true,
        "id": "GKxDyuTBEeTL"
      },
      "execution_count": null,
      "outputs": []
    },
    {
      "cell_type": "markdown",
      "source": [
        "# 2. Load data harga mobil bekas merek Toyota berdasarkan lokasi data"
      ],
      "metadata": {
        "id": "EDM8GBVXEeTL"
      }
    },
    {
      "cell_type": "code",
      "source": [
        "data_location='/content/sample_data/toyota.csv'\n",
        "row_data = pd.read_csv(data_location)\n",
        "row_data.shape"
      ],
      "metadata": {
        "_uuid": "d629ff2d2480ee46fbb7e2d37f6b5fab8052498a",
        "_cell_guid": "79c7e3d0-c299-4dcb-8224-4455121ee9b0",
        "execution": {
          "iopub.status.busy": "2024-03-20T12:41:05.443769Z",
          "iopub.execute_input": "2024-03-20T12:41:05.444240Z",
          "iopub.status.idle": "2024-03-20T12:41:05.469107Z",
          "shell.execute_reply.started": "2024-03-20T12:41:05.444191Z",
          "shell.execute_reply": "2024-03-20T12:41:05.468073Z"
        },
        "trusted": true,
        "colab": {
          "base_uri": "https://localhost:8080/"
        },
        "id": "2pTrLjtCEeTL",
        "outputId": "8781afb9-0edd-478d-b335-ceb35e7be885"
      },
      "execution_count": null,
      "outputs": [
        {
          "output_type": "execute_result",
          "data": {
            "text/plain": [
              "(6738, 9)"
            ]
          },
          "metadata": {},
          "execution_count": 3
        }
      ]
    },
    {
      "cell_type": "markdown",
      "source": [
        "# Bagian Baru"
      ],
      "metadata": {
        "id": "SSZptjTwFCEY"
      }
    },
    {
      "cell_type": "code",
      "source": [
        "row_data.describe"
      ],
      "metadata": {
        "execution": {
          "iopub.status.busy": "2024-03-20T12:41:05.470769Z",
          "iopub.execute_input": "2024-03-20T12:41:05.471132Z",
          "iopub.status.idle": "2024-03-20T12:41:05.486027Z",
          "shell.execute_reply.started": "2024-03-20T12:41:05.471094Z",
          "shell.execute_reply": "2024-03-20T12:41:05.484859Z"
        },
        "trusted": true,
        "id": "dSrYQHVvEeTM",
        "outputId": "891659a7-7770-47ea-e2a7-97cb6e4645f0"
      },
      "execution_count": null,
      "outputs": [
        {
          "execution_count": 18,
          "output_type": "execute_result",
          "data": {
            "text/plain": "<bound method NDFrame.describe of                model  year  price transmission  mileage fuelType  tax   mpg  \\\n0               GT86  2016  16000       Manual    24089   Petrol  265  36.2   \n1               GT86  2017  15995       Manual    18615   Petrol  145  36.2   \n2               GT86  2015  13998       Manual    27469   Petrol  265  36.2   \n3               GT86  2017  18998       Manual    14736   Petrol  150  36.2   \n4               GT86  2017  17498       Manual    36284   Petrol  145  36.2   \n...              ...   ...    ...          ...      ...      ...  ...   ...   \n6733              IQ  2011   5500    Automatic    30000   Petrol   20  58.9   \n6734   Urban Cruiser  2011   4985       Manual    36154   Petrol  125  50.4   \n6735   Urban Cruiser  2012   4995       Manual    46000   Diesel  125  57.6   \n6736   Urban Cruiser  2011   3995       Manual    60700   Petrol  125  50.4   \n6737   Urban Cruiser  2011   4495       Manual    45128   Petrol  125  50.4   \n\n      engineSize  \n0            2.0  \n1            2.0  \n2            2.0  \n3            2.0  \n4            2.0  \n...          ...  \n6733         1.0  \n6734         1.3  \n6735         1.4  \n6736         1.3  \n6737         1.3  \n\n[6738 rows x 9 columns]>"
          },
          "metadata": {}
        }
      ]
    },
    {
      "cell_type": "markdown",
      "source": [
        "# 3. Bersihkan data yang tidak lengkap (kalau ada)"
      ],
      "metadata": {
        "id": "NT4e7ZQNEeTM"
      }
    },
    {
      "cell_type": "code",
      "source": [
        "data = row_data.dropna(axis=0)\n",
        "data.describe()"
      ],
      "metadata": {
        "execution": {
          "iopub.status.busy": "2024-03-20T12:41:05.488064Z",
          "iopub.execute_input": "2024-03-20T12:41:05.488542Z",
          "iopub.status.idle": "2024-03-20T12:41:05.528125Z",
          "shell.execute_reply.started": "2024-03-20T12:41:05.488490Z",
          "shell.execute_reply": "2024-03-20T12:41:05.527195Z"
        },
        "trusted": true,
        "id": "U2vEFcXNEeTM",
        "outputId": "2045b0ae-96b5-4fae-882e-40a3fc5b31c6"
      },
      "execution_count": null,
      "outputs": [
        {
          "execution_count": 19,
          "output_type": "execute_result",
          "data": {
            "text/plain": "              year         price        mileage          tax          mpg  \\\ncount  6738.000000   6738.000000    6738.000000  6738.000000  6738.000000   \nmean   2016.748145  12522.391066   22857.413921    94.697240    63.042223   \nstd       2.204062   6345.017587   19125.464147    73.880776    15.836710   \nmin    1998.000000    850.000000       2.000000     0.000000     2.800000   \n25%    2016.000000   8290.000000    9446.000000     0.000000    55.400000   \n50%    2017.000000  10795.000000   18513.000000   135.000000    62.800000   \n75%    2018.000000  14995.000000   31063.750000   145.000000    69.000000   \nmax    2020.000000  59995.000000  174419.000000   565.000000   235.000000   \n\n        engineSize  \ncount  6738.000000  \nmean      1.471297  \nstd       0.436159  \nmin       0.000000  \n25%       1.000000  \n50%       1.500000  \n75%       1.800000  \nmax       4.500000  ",
            "text/html": "<div>\n<style scoped>\n    .dataframe tbody tr th:only-of-type {\n        vertical-align: middle;\n    }\n\n    .dataframe tbody tr th {\n        vertical-align: top;\n    }\n\n    .dataframe thead th {\n        text-align: right;\n    }\n</style>\n<table border=\"1\" class=\"dataframe\">\n  <thead>\n    <tr style=\"text-align: right;\">\n      <th></th>\n      <th>year</th>\n      <th>price</th>\n      <th>mileage</th>\n      <th>tax</th>\n      <th>mpg</th>\n      <th>engineSize</th>\n    </tr>\n  </thead>\n  <tbody>\n    <tr>\n      <th>count</th>\n      <td>6738.000000</td>\n      <td>6738.000000</td>\n      <td>6738.000000</td>\n      <td>6738.000000</td>\n      <td>6738.000000</td>\n      <td>6738.000000</td>\n    </tr>\n    <tr>\n      <th>mean</th>\n      <td>2016.748145</td>\n      <td>12522.391066</td>\n      <td>22857.413921</td>\n      <td>94.697240</td>\n      <td>63.042223</td>\n      <td>1.471297</td>\n    </tr>\n    <tr>\n      <th>std</th>\n      <td>2.204062</td>\n      <td>6345.017587</td>\n      <td>19125.464147</td>\n      <td>73.880776</td>\n      <td>15.836710</td>\n      <td>0.436159</td>\n    </tr>\n    <tr>\n      <th>min</th>\n      <td>1998.000000</td>\n      <td>850.000000</td>\n      <td>2.000000</td>\n      <td>0.000000</td>\n      <td>2.800000</td>\n      <td>0.000000</td>\n    </tr>\n    <tr>\n      <th>25%</th>\n      <td>2016.000000</td>\n      <td>8290.000000</td>\n      <td>9446.000000</td>\n      <td>0.000000</td>\n      <td>55.400000</td>\n      <td>1.000000</td>\n    </tr>\n    <tr>\n      <th>50%</th>\n      <td>2017.000000</td>\n      <td>10795.000000</td>\n      <td>18513.000000</td>\n      <td>135.000000</td>\n      <td>62.800000</td>\n      <td>1.500000</td>\n    </tr>\n    <tr>\n      <th>75%</th>\n      <td>2018.000000</td>\n      <td>14995.000000</td>\n      <td>31063.750000</td>\n      <td>145.000000</td>\n      <td>69.000000</td>\n      <td>1.800000</td>\n    </tr>\n    <tr>\n      <th>max</th>\n      <td>2020.000000</td>\n      <td>59995.000000</td>\n      <td>174419.000000</td>\n      <td>565.000000</td>\n      <td>235.000000</td>\n      <td>4.500000</td>\n    </tr>\n  </tbody>\n</table>\n</div>"
          },
          "metadata": {}
        }
      ]
    },
    {
      "cell_type": "markdown",
      "source": [
        "Memeriksa tipe data mana saja yang bernilai integer dan float untuk diolah selanjutnya"
      ],
      "metadata": {
        "id": "TwPX9Y32EeTM"
      }
    },
    {
      "cell_type": "code",
      "source": [
        "print (row_data.dtypes)"
      ],
      "metadata": {
        "execution": {
          "iopub.status.busy": "2024-03-20T12:41:05.530250Z",
          "iopub.execute_input": "2024-03-20T12:41:05.530570Z",
          "iopub.status.idle": "2024-03-20T12:41:05.536593Z",
          "shell.execute_reply.started": "2024-03-20T12:41:05.530540Z",
          "shell.execute_reply": "2024-03-20T12:41:05.535730Z"
        },
        "trusted": true,
        "id": "UKyCLyAiEeTM",
        "outputId": "9ead1161-5acd-47ea-e5a7-165aeb82c929"
      },
      "execution_count": null,
      "outputs": [
        {
          "name": "stdout",
          "text": "model            object\nyear              int64\nprice             int64\ntransmission     object\nmileage           int64\nfuelType         object\ntax               int64\nmpg             float64\nengineSize      float64\ndtype: object\n",
          "output_type": "stream"
        }
      ]
    },
    {
      "cell_type": "markdown",
      "source": [
        "# 4. Definisikan input output data yang menggunakan tipe data integer dan float"
      ],
      "metadata": {
        "id": "IBURAr2XEeTM"
      }
    },
    {
      "cell_type": "code",
      "source": [
        "features = ['year', 'mileage', 'tax', 'mpg', 'engineSize']\n",
        "x = data[features]\n",
        "y = data['price']\n",
        "x.shape, y.shape"
      ],
      "metadata": {
        "execution": {
          "iopub.status.busy": "2024-03-20T12:41:05.538006Z",
          "iopub.execute_input": "2024-03-20T12:41:05.538340Z",
          "iopub.status.idle": "2024-03-20T12:41:05.551340Z",
          "shell.execute_reply.started": "2024-03-20T12:41:05.538297Z",
          "shell.execute_reply": "2024-03-20T12:41:05.550304Z"
        },
        "trusted": true,
        "id": "sTteAtfDEeTN",
        "outputId": "fc7cd11b-f721-47ea-a550-7ebb86ef77a3"
      },
      "execution_count": null,
      "outputs": [
        {
          "execution_count": 21,
          "output_type": "execute_result",
          "data": {
            "text/plain": "((6738, 5), (6738,))"
          },
          "metadata": {}
        }
      ]
    },
    {
      "cell_type": "markdown",
      "source": [
        "# 5. Membagi data untuk training dan validasi (test)"
      ],
      "metadata": {
        "id": "lQjPr8zQEeTN"
      }
    },
    {
      "cell_type": "code",
      "source": [
        "from sklearn.model_selection import train_test_split\n",
        "train_x, test_x, train_y, test_y = train_test_split(x, y, random_state = 70)"
      ],
      "metadata": {
        "execution": {
          "iopub.status.busy": "2024-03-20T12:41:05.552989Z",
          "iopub.execute_input": "2024-03-20T12:41:05.553710Z",
          "iopub.status.idle": "2024-03-20T12:41:05.563683Z",
          "shell.execute_reply.started": "2024-03-20T12:41:05.553667Z",
          "shell.execute_reply": "2024-03-20T12:41:05.562665Z"
        },
        "trusted": true,
        "id": "uOcXTRitEeTN"
      },
      "execution_count": null,
      "outputs": []
    },
    {
      "cell_type": "code",
      "source": [
        "test_y.shape"
      ],
      "metadata": {
        "execution": {
          "iopub.status.busy": "2024-03-20T12:41:05.565314Z",
          "iopub.execute_input": "2024-03-20T12:41:05.565741Z",
          "iopub.status.idle": "2024-03-20T12:41:05.576333Z",
          "shell.execute_reply.started": "2024-03-20T12:41:05.565704Z",
          "shell.execute_reply": "2024-03-20T12:41:05.575348Z"
        },
        "trusted": true,
        "id": "wjxiRI6SEeTN",
        "outputId": "be27d847-efe3-4277-f493-e10a2becef5f"
      },
      "execution_count": null,
      "outputs": [
        {
          "execution_count": 23,
          "output_type": "execute_result",
          "data": {
            "text/plain": "(1685,)"
          },
          "metadata": {}
        }
      ]
    },
    {
      "cell_type": "markdown",
      "source": [
        "# 6. Membangun machine learning model dengan algoritma K-Nearest Neighbors"
      ],
      "metadata": {
        "id": "xlgvogj_EeTN"
      }
    },
    {
      "cell_type": "code",
      "source": [
        "from sklearn.neighbors import KNeighborsRegressor as KNN_Reg\n",
        "from sklearn.metrics import mean_squared_error as mse\n",
        "\n",
        "model = KNN_Reg(n_neighbors = 80)\n",
        "\n",
        "# training the model:\n",
        "model.fit(train_x, train_y)\n",
        "acc1 = model.score(test_x, test_y)\n",
        "\n",
        "# test for prediction\n",
        "test_predict = model.predict(test_x)\n",
        "score = mse(test_predict, test_y)\n",
        "print(' MSE: ', score, '\\n', 'Accuracy: ', acc1)"
      ],
      "metadata": {
        "execution": {
          "iopub.status.busy": "2024-03-20T12:41:05.637186Z",
          "iopub.execute_input": "2024-03-20T12:41:05.637578Z",
          "iopub.status.idle": "2024-03-20T12:41:05.707761Z",
          "shell.execute_reply.started": "2024-03-20T12:41:05.637544Z",
          "shell.execute_reply": "2024-03-20T12:41:05.706715Z"
        },
        "trusted": true,
        "id": "_Sk1Ofu_EeTN",
        "outputId": "a013475a-ea61-41ae-e21e-4b80f406f5b5"
      },
      "execution_count": null,
      "outputs": [
        {
          "name": "stdout",
          "text": " MSE:  34239793.2395612 \n Accuracy:  0.09914822203322793\n",
          "output_type": "stream"
        }
      ]
    }
  ]
}